{
 "cells": [
  {
   "cell_type": "markdown",
   "id": "9738d49d-17f7-41b1-8c93-71df60cb8a57",
   "metadata": {},
   "source": [
    "# Data Science Tools and Ecosystems\n",
    "  \n"
   ]
  },
  {
   "cell_type": "markdown",
   "id": "8b1e8b40-d843-4d43-a1fd-423e607891ac",
   "metadata": {},
   "source": [
    "## Introduction \n",
    "    In this notebook, Data Science Tools and Ecosystems are summarized.\n",
    "    \n",
    "**Objectives:**\n",
    "- Data Scient Tools\n",
    "- Data Science Common Languages\n",
    "- Data Science OS Development Environments\n",
    "- A simple Python code"
   ]
  },
  {
   "cell_type": "markdown",
   "id": "f6f2d338-6533-4ec8-a3bd-06dffcd76d02",
   "metadata": {},
   "source": [
    "##### A-Some of the popular languages that Data Scientists use are:\n",
    "1. Python\n",
    "2. R\n",
    "3. C++\n",
    "4. scala\n",
    "5. Julia\n"
   ]
  },
  {
   "cell_type": "markdown",
   "id": "06f912af-e7cd-463d-a24f-2a672cba89eb",
   "metadata": {},
   "source": [
    "##### B-Some of the commonly used libraries used by Data Scientists include:\n",
    "1. Pandas \n",
    "2. NumPy\n",
    "3. SciPy\n",
    "4. TensorFellow\n",
    "5. Pytorch "
   ]
  },
  {
   "cell_type": "markdown",
   "id": "e891b36d-53c3-4e4b-baa9-de551d705433",
   "metadata": {},
   "source": [
    "| Data Science Tool |\n",
    "|-------------------|\n",
    "| IBM Watsom Studio |\n",
    "|    Rstudio        |\n",
    "|    Hadoop         |\n",
    "|    JupyterLab     |"
   ]
  },
  {
   "cell_type": "markdown",
   "id": "42a46036-a320-4fe2-a8e9-a0e9c492c5c4",
   "metadata": {},
   "source": [
    "### Below are a few examples of evaluating arithmetic expressions in Python.\n",
    "    "
   ]
  },
  {
   "cell_type": "code",
   "execution_count": 3,
   "id": "e0b4b8c2-a41c-4e0f-81d5-3761d9483939",
   "metadata": {},
   "outputs": [
    {
     "data": {
      "text/plain": [
       "17"
      ]
     },
     "execution_count": 3,
     "metadata": {},
     "output_type": "execute_result"
    }
   ],
   "source": [
    "# This a simple arithmetic expression to mutiply then add integers\n",
    "(3*4)+5"
   ]
  },
  {
   "cell_type": "code",
   "execution_count": 6,
   "id": "3d91dcec-a436-4675-b8af-59b9a857f593",
   "metadata": {},
   "outputs": [
    {
     "name": "stdout",
     "output_type": "stream",
     "text": [
      "200 minutes is 3  hours and 20 minutes.\n"
     ]
    }
   ],
   "source": [
    "# This cell will convert 200 minutes to hours by diving by 60\n",
    "hour= int(200/60)\n",
    "resi= 200 % 60\n",
    "print('200 minutes is', hour,' hours and', resi, 'minutes.')"
   ]
  },
  {
   "cell_type": "markdown",
   "id": "84ead2ca-4f76-41e7-a746-da4ff96af3ef",
   "metadata": {},
   "source": [
    "## Author\n",
    "    Erfan SOHEIL"
   ]
  },
  {
   "cell_type": "code",
   "execution_count": null,
   "id": "463261c7-2b0c-4a34-ae79-76e63fb9284d",
   "metadata": {},
   "outputs": [],
   "source": []
  }
 ],
 "metadata": {
  "kernelspec": {
   "display_name": "Python 3 (ipykernel)",
   "language": "python",
   "name": "python3"
  },
  "language_info": {
   "codemirror_mode": {
    "name": "ipython",
    "version": 3
   },
   "file_extension": ".py",
   "mimetype": "text/x-python",
   "name": "python",
   "nbconvert_exporter": "python",
   "pygments_lexer": "ipython3",
   "version": "3.10.12"
  }
 },
 "nbformat": 4,
 "nbformat_minor": 5
}
